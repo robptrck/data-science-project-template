{
  "nbformat": 4,
  "nbformat_minor": 0,
  "metadata": {
    "colab": {
      "provenance": [],
      "include_colab_link": true
    },
    "kernelspec": {
      "name": "python3",
      "display_name": "Python 3"
    },
    "language_info": {
      "name": "python"
    }
  },
  "cells": [
    {
      "cell_type": "markdown",
      "metadata": {
        "id": "view-in-github",
        "colab_type": "text"
      },
      "source": [
        "<a href=\"https://colab.research.google.com/github/robptrck/data-science-project-template/blob/main/code_lab_9.ipynb\" target=\"_parent\"><img src=\"https://colab.research.google.com/assets/colab-badge.svg\" alt=\"Open In Colab\"/></a>"
      ]
    },
    {
      "cell_type": "markdown",
      "metadata": {
        "id": "LfXskbnsTLRM"
      },
      "source": [
        "# **Get Data**\n",
        "Read population_race_2019.csv from a cloud based file and verify head and tail of data set. \n",
        "\n",
        "Note: This data set has already been cleaned but will need a few modifications of the columns to prepare for our analysis. \n"
      ]
    },
    {
      "cell_type": "code",
      "metadata": {
        "id": "GK3bh2TAJSrT"
      },
      "source": [
        "import pandas as pd"
      ],
      "execution_count": null,
      "outputs": []
    },
    {
      "cell_type": "code",
      "metadata": {
        "colab": {
          "base_uri": "https://localhost:8080/",
          "height": 206
        },
        "id": "71lYkrpGOy7W",
        "outputId": "544fc495-31f9-4307-e3cb-4352f5f6fd9c"
      },
      "source": [
        "url=\"http://dlaney.webdevstudent.me/isit333/population_race_2019.csv\"\n",
        "state_data = pd.read_csv(url)\n",
        "state_data.head(5)"
      ],
      "execution_count": null,
      "outputs": [
        {
          "output_type": "execute_result",
          "data": {
            "text/html": [
              "<div>\n",
              "<style scoped>\n",
              "    .dataframe tbody tr th:only-of-type {\n",
              "        vertical-align: middle;\n",
              "    }\n",
              "\n",
              "    .dataframe tbody tr th {\n",
              "        vertical-align: top;\n",
              "    }\n",
              "\n",
              "    .dataframe thead th {\n",
              "        text-align: right;\n",
              "    }\n",
              "</style>\n",
              "<table border=\"1\" class=\"dataframe\">\n",
              "  <thead>\n",
              "    <tr style=\"text-align: right;\">\n",
              "      <th></th>\n",
              "      <th>Location</th>\n",
              "      <th>White</th>\n",
              "      <th>Black</th>\n",
              "      <th>Hispanic</th>\n",
              "      <th>Asian</th>\n",
              "      <th>American Indian/Alaska Native</th>\n",
              "      <th>Native Hawaiian/Other Pacific Islander</th>\n",
              "      <th>Multiple Races</th>\n",
              "      <th>Total</th>\n",
              "      <th>Footnotes</th>\n",
              "    </tr>\n",
              "  </thead>\n",
              "  <tbody>\n",
              "    <tr>\n",
              "      <th>0</th>\n",
              "      <td>Alabama</td>\n",
              "      <td>3117200</td>\n",
              "      <td>1263500</td>\n",
              "      <td>211700</td>\n",
              "      <td>65200</td>\n",
              "      <td>18800</td>\n",
              "      <td>0</td>\n",
              "      <td>89200</td>\n",
              "      <td>4767100</td>\n",
              "      <td>nan%</td>\n",
              "    </tr>\n",
              "    <tr>\n",
              "      <th>1</th>\n",
              "      <td>Alaska</td>\n",
              "      <td>421100</td>\n",
              "      <td>15200</td>\n",
              "      <td>48900</td>\n",
              "      <td>42000</td>\n",
              "      <td>106000</td>\n",
              "      <td>10400</td>\n",
              "      <td>58200</td>\n",
              "      <td>701700</td>\n",
              "      <td>nan%</td>\n",
              "    </tr>\n",
              "    <tr>\n",
              "      <th>2</th>\n",
              "      <td>Arizona</td>\n",
              "      <td>3843700</td>\n",
              "      <td>306600</td>\n",
              "      <td>2254800</td>\n",
              "      <td>231000</td>\n",
              "      <td>276100</td>\n",
              "      <td>12500</td>\n",
              "      <td>173400</td>\n",
              "      <td>7098000</td>\n",
              "      <td>nan%</td>\n",
              "    </tr>\n",
              "    <tr>\n",
              "      <th>3</th>\n",
              "      <td>Arkansas</td>\n",
              "      <td>2108400</td>\n",
              "      <td>444200</td>\n",
              "      <td>226800</td>\n",
              "      <td>45500</td>\n",
              "      <td>16700</td>\n",
              "      <td>10800</td>\n",
              "      <td>70100</td>\n",
              "      <td>2922500</td>\n",
              "      <td>nan%</td>\n",
              "    </tr>\n",
              "    <tr>\n",
              "      <th>4</th>\n",
              "      <td>California</td>\n",
              "      <td>14047400</td>\n",
              "      <td>2066300</td>\n",
              "      <td>15271400</td>\n",
              "      <td>5691100</td>\n",
              "      <td>138800</td>\n",
              "      <td>137000</td>\n",
              "      <td>1290700</td>\n",
              "      <td>38642700</td>\n",
              "      <td>nan%</td>\n",
              "    </tr>\n",
              "  </tbody>\n",
              "</table>\n",
              "</div>"
            ],
            "text/plain": [
              "     Location     White    Black  Hispanic    Asian  \\\n",
              "0     Alabama   3117200  1263500    211700    65200   \n",
              "1      Alaska    421100    15200     48900    42000   \n",
              "2     Arizona   3843700   306600   2254800   231000   \n",
              "3    Arkansas   2108400   444200    226800    45500   \n",
              "4  California  14047400  2066300  15271400  5691100   \n",
              "\n",
              "   American Indian/Alaska Native  Native Hawaiian/Other Pacific Islander  \\\n",
              "0                          18800                                       0   \n",
              "1                         106000                                   10400   \n",
              "2                         276100                                   12500   \n",
              "3                          16700                                   10800   \n",
              "4                         138800                                  137000   \n",
              "\n",
              "   Multiple Races     Total  Footnotes  \n",
              "0           89200   4767100       nan%  \n",
              "1           58200    701700       nan%  \n",
              "2          173400   7098000       nan%  \n",
              "3           70100   2922500       nan%  \n",
              "4         1290700  38642700       nan%  "
            ]
          },
          "metadata": {},
          "execution_count": 16
        }
      ]
    },
    {
      "cell_type": "code",
      "metadata": {
        "colab": {
          "base_uri": "https://localhost:8080/",
          "height": 206
        },
        "id": "WGxnp3RZTFfP",
        "outputId": "a355f551-8306-403c-bddd-1c32ffe10c91"
      },
      "source": [
        "state_data.tail(5)"
      ],
      "execution_count": null,
      "outputs": [
        {
          "output_type": "execute_result",
          "data": {
            "text/html": [
              "<div>\n",
              "<style scoped>\n",
              "    .dataframe tbody tr th:only-of-type {\n",
              "        vertical-align: middle;\n",
              "    }\n",
              "\n",
              "    .dataframe tbody tr th {\n",
              "        vertical-align: top;\n",
              "    }\n",
              "\n",
              "    .dataframe thead th {\n",
              "        text-align: right;\n",
              "    }\n",
              "</style>\n",
              "<table border=\"1\" class=\"dataframe\">\n",
              "  <thead>\n",
              "    <tr style=\"text-align: right;\">\n",
              "      <th></th>\n",
              "      <th>Location</th>\n",
              "      <th>White</th>\n",
              "      <th>Black</th>\n",
              "      <th>Hispanic</th>\n",
              "      <th>Asian</th>\n",
              "      <th>American Indian/Alaska Native</th>\n",
              "      <th>Native Hawaiian/Other Pacific Islander</th>\n",
              "      <th>Multiple Races</th>\n",
              "      <th>Total</th>\n",
              "      <th>Footnotes</th>\n",
              "    </tr>\n",
              "  </thead>\n",
              "  <tbody>\n",
              "    <tr>\n",
              "      <th>47</th>\n",
              "      <td>Washington</td>\n",
              "      <td>5013200</td>\n",
              "      <td>282700</td>\n",
              "      <td>964700</td>\n",
              "      <td>662400</td>\n",
              "      <td>82400</td>\n",
              "      <td>47400</td>\n",
              "      <td>371100</td>\n",
              "      <td>7423900</td>\n",
              "      <td>nan%</td>\n",
              "    </tr>\n",
              "    <tr>\n",
              "      <th>48</th>\n",
              "      <td>West Virginia</td>\n",
              "      <td>1609000</td>\n",
              "      <td>55900</td>\n",
              "      <td>24800</td>\n",
              "      <td>14200</td>\n",
              "      <td>3900</td>\n",
              "      <td>0</td>\n",
              "      <td>31200</td>\n",
              "      <td>1739000</td>\n",
              "      <td>nan%</td>\n",
              "    </tr>\n",
              "    <tr>\n",
              "      <th>49</th>\n",
              "      <td>Wisconsin</td>\n",
              "      <td>4602500</td>\n",
              "      <td>349200</td>\n",
              "      <td>401700</td>\n",
              "      <td>169100</td>\n",
              "      <td>37400</td>\n",
              "      <td>0</td>\n",
              "      <td>114100</td>\n",
              "      <td>5677100</td>\n",
              "      <td>nan%</td>\n",
              "    </tr>\n",
              "    <tr>\n",
              "      <th>50</th>\n",
              "      <td>Wyoming</td>\n",
              "      <td>471600</td>\n",
              "      <td>5400</td>\n",
              "      <td>57100</td>\n",
              "      <td>3400</td>\n",
              "      <td>12300</td>\n",
              "      <td>0</td>\n",
              "      <td>12000</td>\n",
              "      <td>562700</td>\n",
              "      <td>nan%</td>\n",
              "    </tr>\n",
              "    <tr>\n",
              "      <th>51</th>\n",
              "      <td>Puerto Rico</td>\n",
              "      <td>42600</td>\n",
              "      <td>3100</td>\n",
              "      <td>3106600</td>\n",
              "      <td>0</td>\n",
              "      <td>0</td>\n",
              "      <td>0</td>\n",
              "      <td>9100</td>\n",
              "      <td>3164500</td>\n",
              "      <td>nan%</td>\n",
              "    </tr>\n",
              "  </tbody>\n",
              "</table>\n",
              "</div>"
            ],
            "text/plain": [
              "         Location    White   Black  Hispanic   Asian  \\\n",
              "47     Washington  5013200  282700    964700  662400   \n",
              "48  West Virginia  1609000   55900     24800   14200   \n",
              "49      Wisconsin  4602500  349200    401700  169100   \n",
              "50        Wyoming   471600    5400     57100    3400   \n",
              "51    Puerto Rico    42600    3100   3106600       0   \n",
              "\n",
              "    American Indian/Alaska Native  Native Hawaiian/Other Pacific Islander  \\\n",
              "47                          82400                                   47400   \n",
              "48                           3900                                       0   \n",
              "49                          37400                                       0   \n",
              "50                          12300                                       0   \n",
              "51                              0                                       0   \n",
              "\n",
              "    Multiple Races    Total  Footnotes  \n",
              "47          371100  7423900       nan%  \n",
              "48           31200  1739000       nan%  \n",
              "49          114100  5677100       nan%  \n",
              "50           12000   562700       nan%  \n",
              "51            9100  3164500       nan%  "
            ]
          },
          "metadata": {},
          "execution_count": 17
        }
      ]
    },
    {
      "cell_type": "markdown",
      "metadata": {
        "id": "D34GikwBTW33"
      },
      "source": [
        "# **YOUR TURN - Modify columns**\n",
        "\n",
        "*   Remove the Footnotes column\n",
        "*   Rename \"Multiple Races\" column to \"Multiracial\"\n",
        "\n",
        "Output the head after the changes were made.\n",
        "\n",
        "\n"
      ]
    },
    {
      "cell_type": "code",
      "metadata": {
        "id": "WXOm7tr2UYvL"
      },
      "source": [
        "# Remove the Footnotes column"
      ],
      "execution_count": null,
      "outputs": []
    },
    {
      "cell_type": "code",
      "metadata": {
        "id": "CgGZFDtAUaob"
      },
      "source": [
        "# Rename the \"Multiple Races\" column to \"Multiracial\""
      ],
      "execution_count": null,
      "outputs": []
    },
    {
      "cell_type": "code",
      "metadata": {
        "id": "1JaHSAeMUa9n"
      },
      "source": [
        "# output the head to show the changes"
      ],
      "execution_count": null,
      "outputs": []
    },
    {
      "cell_type": "markdown",
      "metadata": {
        "id": "N_XxzF1_Uc-7"
      },
      "source": [
        "# **YOUR TURN - Display the state name and total population in order of highest to lowest population.**\n",
        "\n",
        "*   Show all rows of data\n",
        "\n"
      ]
    },
    {
      "cell_type": "code",
      "metadata": {
        "id": "meKpxAZbU5fJ"
      },
      "source": [
        "# remove the limits on max columsn and rows to output the entire dataframe \n",
        "pd.set_option(\"display.max_rows\", None, \"display.max_columns\", None)\n",
        "\n",
        "# output the state name and total population in order of highest to lowest total population\n",
        "\n"
      ],
      "execution_count": null,
      "outputs": []
    },
    {
      "cell_type": "markdown",
      "metadata": {
        "id": "eLzn3HzkU8bh"
      },
      "source": [
        "# **Create dataframes for each included race**\n",
        "Create a new column in the state_data dataframe that will hold the data for a calculated field - total percentage of each race in the file per state. Therefore, you should be adding a calculated field for each of the 7 identified races.\n",
        "\n",
        "Then create a new dataframe for each race that includes the location, specific race population and the specific race percentage of total population (your calculated field). \n",
        "\n",
        "Display the state name, race, and percentage of total population for states with the highest population of each ethnicity. \n",
        "\n",
        "See example below for one race. Create text cells for each race group of data below. Identify each race with a text cell. "
      ]
    },
    {
      "cell_type": "markdown",
      "metadata": {
        "id": "w7_X5oZjyPHC"
      },
      "source": [
        "# **White Population - 2019 U.S. Locations**"
      ]
    },
    {
      "cell_type": "code",
      "metadata": {
        "id": "n-aIXMHgWbrh",
        "colab": {
          "base_uri": "https://localhost:8080/",
          "height": 206
        },
        "outputId": "97a522da-54de-4025-f312-d2129bdadbc8"
      },
      "source": [
        "\n",
        "# add a calculated field to get the percentage of each race population\n",
        "state_data[\"WhitePct\"] = state_data.White/state_data.Total\n",
        "\n",
        "# save this data to a separate dataframe\n",
        "white_percentage = state_data[[\"Location\", \"White\", \"WhitePct\"]]\n",
        "\n",
        "# set the display to percentage format for float numbers\n",
        "pd.options.display.float_format = '{:.2%}'.format\n",
        "\n",
        "# display the head of the new dataframe\n",
        "white_percentage.head()\n",
        "\n"
      ],
      "execution_count": null,
      "outputs": [
        {
          "output_type": "execute_result",
          "data": {
            "text/html": [
              "<div>\n",
              "<style scoped>\n",
              "    .dataframe tbody tr th:only-of-type {\n",
              "        vertical-align: middle;\n",
              "    }\n",
              "\n",
              "    .dataframe tbody tr th {\n",
              "        vertical-align: top;\n",
              "    }\n",
              "\n",
              "    .dataframe thead th {\n",
              "        text-align: right;\n",
              "    }\n",
              "</style>\n",
              "<table border=\"1\" class=\"dataframe\">\n",
              "  <thead>\n",
              "    <tr style=\"text-align: right;\">\n",
              "      <th></th>\n",
              "      <th>Location</th>\n",
              "      <th>White</th>\n",
              "      <th>WhitePct</th>\n",
              "    </tr>\n",
              "  </thead>\n",
              "  <tbody>\n",
              "    <tr>\n",
              "      <th>0</th>\n",
              "      <td>Alabama</td>\n",
              "      <td>3117200</td>\n",
              "      <td>65.39%</td>\n",
              "    </tr>\n",
              "    <tr>\n",
              "      <th>1</th>\n",
              "      <td>Alaska</td>\n",
              "      <td>421100</td>\n",
              "      <td>60.01%</td>\n",
              "    </tr>\n",
              "    <tr>\n",
              "      <th>2</th>\n",
              "      <td>Arizona</td>\n",
              "      <td>3843700</td>\n",
              "      <td>54.15%</td>\n",
              "    </tr>\n",
              "    <tr>\n",
              "      <th>3</th>\n",
              "      <td>Arkansas</td>\n",
              "      <td>2108400</td>\n",
              "      <td>72.14%</td>\n",
              "    </tr>\n",
              "    <tr>\n",
              "      <th>4</th>\n",
              "      <td>California</td>\n",
              "      <td>14047400</td>\n",
              "      <td>36.35%</td>\n",
              "    </tr>\n",
              "  </tbody>\n",
              "</table>\n",
              "</div>"
            ],
            "text/plain": [
              "     Location     White  WhitePct\n",
              "0     Alabama   3117200    65.39%\n",
              "1      Alaska    421100    60.01%\n",
              "2     Arizona   3843700    54.15%\n",
              "3    Arkansas   2108400    72.14%\n",
              "4  California  14047400    36.35%"
            ]
          },
          "metadata": {},
          "execution_count": 22
        }
      ]
    },
    {
      "cell_type": "code",
      "metadata": {
        "id": "0NYWa3gze-a4"
      },
      "source": [
        "# sort the dataframe in order from largest to smallest\n",
        "white_percentage = white_percentage.sort_values(by=['WhitePct'], ascending=False)\n",
        "\n",
        "\n",
        "# reset the index values so the data will be in order of percentage descending\n",
        "white_percentage = white_percentage.reset_index(drop=True)"
      ],
      "execution_count": null,
      "outputs": []
    },
    {
      "cell_type": "code",
      "metadata": {
        "colab": {
          "base_uri": "https://localhost:8080/"
        },
        "id": "8tCHWxcPXigb",
        "outputId": "828865f9-21a9-4830-e3f5-4b28321b5103"
      },
      "source": [
        "# remove the limits on max columsn and rows to output the entire dataframe \n",
        "pd.set_option(\"display.max_rows\", None, \"display.max_columns\", None)\n",
        "\n",
        "# output the entire dataframe values\n",
        "print(white_percentage)"
      ],
      "execution_count": null,
      "outputs": [
        {
          "output_type": "stream",
          "name": "stdout",
          "text": [
            "                Location     White  WhitePct\n",
            "0                  Maine   1213500    93.18%\n",
            "1                Vermont    555100    92.81%\n",
            "2          West Virginia   1609000    92.52%\n",
            "3          New Hampshire   1179700    89.78%\n",
            "4                Montana    895200    86.13%\n",
            "5                   Iowa   2610600    85.31%\n",
            "6               Kentucky   3648500    84.47%\n",
            "7           North Dakota    614600    84.08%\n",
            "8                Wyoming    471600    83.81%\n",
            "9           South Dakota    697500    81.93%\n",
            "10                 Idaho   1429500    81.64%\n",
            "11             Wisconsin   4602500    81.07%\n",
            "12              Missouri   4715000    79.38%\n",
            "13             Minnesota   4361600    79.09%\n",
            "14               Indiana   5116000    78.57%\n",
            "15                  Ohio   8918300    78.56%\n",
            "16              Nebraska   1470900    78.51%\n",
            "17                  Utah   2452300    77.75%\n",
            "18          Pennsylvania   9401500    75.96%\n",
            "19                Kansas   2128700    75.72%\n",
            "20                Oregon   3097700    75.02%\n",
            "21              Michigan   7316400    74.92%\n",
            "22             Tennessee   4884500    73.55%\n",
            "23              Arkansas   2108400    72.14%\n",
            "24          Rhode Island    717300    70.52%\n",
            "25         Massachusetts   4687000    70.47%\n",
            "26              Colorado   3804100    67.79%\n",
            "27            Washington   5013200    67.53%\n",
            "28           Connecticut   2268200    65.68%\n",
            "29               Alabama   3117200    65.39%\n",
            "30              Oklahoma   2488200    65.02%\n",
            "31        South Carolina   3177000    63.74%\n",
            "32        North Carolina   6355400    62.68%\n",
            "33              Delaware    577700    61.44%\n",
            "34              Virginia   5017100    61.30%\n",
            "35              Illinois   7522700    60.85%\n",
            "36                Alaska    421100    60.01%\n",
            "37             Louisiana   2643900    58.77%\n",
            "38           Mississippi   1622400    56.59%\n",
            "39              New York  10432200    55.17%\n",
            "40            New Jersey   4738500    54.47%\n",
            "41               Arizona   3843700    54.15%\n",
            "42               Florida  11119200    52.97%\n",
            "43               Georgia   5354500    52.02%\n",
            "44              Maryland   2934100    49.94%\n",
            "45                Nevada   1448800    47.82%\n",
            "46                 Texas  11637100    41.14%\n",
            "47            New Mexico    750000    36.74%\n",
            "48  District of Columbia    246100    36.66%\n",
            "49            California  14047400    36.35%\n",
            "50                Hawaii    274400    20.43%\n",
            "51           Puerto Rico     42600     1.35%\n"
          ]
        }
      ]
    },
    {
      "cell_type": "markdown",
      "metadata": {
        "id": "GC_2033RZ8C_"
      },
      "source": [
        "Top 10 Locations with the highest percentage of White population in 2019"
      ]
    },
    {
      "cell_type": "code",
      "metadata": {
        "colab": {
          "base_uri": "https://localhost:8080/",
          "height": 363
        },
        "id": "bqss8R4tjMJU",
        "outputId": "b12c4288-29f6-4c36-d366-a381d6ad591c"
      },
      "source": [
        "white_percentage.head(10)"
      ],
      "execution_count": null,
      "outputs": [
        {
          "output_type": "execute_result",
          "data": {
            "text/html": [
              "<div>\n",
              "<style scoped>\n",
              "    .dataframe tbody tr th:only-of-type {\n",
              "        vertical-align: middle;\n",
              "    }\n",
              "\n",
              "    .dataframe tbody tr th {\n",
              "        vertical-align: top;\n",
              "    }\n",
              "\n",
              "    .dataframe thead th {\n",
              "        text-align: right;\n",
              "    }\n",
              "</style>\n",
              "<table border=\"1\" class=\"dataframe\">\n",
              "  <thead>\n",
              "    <tr style=\"text-align: right;\">\n",
              "      <th></th>\n",
              "      <th>Location</th>\n",
              "      <th>White</th>\n",
              "      <th>WhitePct</th>\n",
              "    </tr>\n",
              "  </thead>\n",
              "  <tbody>\n",
              "    <tr>\n",
              "      <th>0</th>\n",
              "      <td>Maine</td>\n",
              "      <td>1213500</td>\n",
              "      <td>93.18%</td>\n",
              "    </tr>\n",
              "    <tr>\n",
              "      <th>1</th>\n",
              "      <td>Vermont</td>\n",
              "      <td>555100</td>\n",
              "      <td>92.81%</td>\n",
              "    </tr>\n",
              "    <tr>\n",
              "      <th>2</th>\n",
              "      <td>West Virginia</td>\n",
              "      <td>1609000</td>\n",
              "      <td>92.52%</td>\n",
              "    </tr>\n",
              "    <tr>\n",
              "      <th>3</th>\n",
              "      <td>New Hampshire</td>\n",
              "      <td>1179700</td>\n",
              "      <td>89.78%</td>\n",
              "    </tr>\n",
              "    <tr>\n",
              "      <th>4</th>\n",
              "      <td>Montana</td>\n",
              "      <td>895200</td>\n",
              "      <td>86.13%</td>\n",
              "    </tr>\n",
              "    <tr>\n",
              "      <th>5</th>\n",
              "      <td>Iowa</td>\n",
              "      <td>2610600</td>\n",
              "      <td>85.31%</td>\n",
              "    </tr>\n",
              "    <tr>\n",
              "      <th>6</th>\n",
              "      <td>Kentucky</td>\n",
              "      <td>3648500</td>\n",
              "      <td>84.47%</td>\n",
              "    </tr>\n",
              "    <tr>\n",
              "      <th>7</th>\n",
              "      <td>North Dakota</td>\n",
              "      <td>614600</td>\n",
              "      <td>84.08%</td>\n",
              "    </tr>\n",
              "    <tr>\n",
              "      <th>8</th>\n",
              "      <td>Wyoming</td>\n",
              "      <td>471600</td>\n",
              "      <td>83.81%</td>\n",
              "    </tr>\n",
              "    <tr>\n",
              "      <th>9</th>\n",
              "      <td>South Dakota</td>\n",
              "      <td>697500</td>\n",
              "      <td>81.93%</td>\n",
              "    </tr>\n",
              "  </tbody>\n",
              "</table>\n",
              "</div>"
            ],
            "text/plain": [
              "        Location    White  WhitePct\n",
              "0          Maine  1213500    93.18%\n",
              "1        Vermont   555100    92.81%\n",
              "2  West Virginia  1609000    92.52%\n",
              "3  New Hampshire  1179700    89.78%\n",
              "4        Montana   895200    86.13%\n",
              "5           Iowa  2610600    85.31%\n",
              "6       Kentucky  3648500    84.47%\n",
              "7   North Dakota   614600    84.08%\n",
              "8        Wyoming   471600    83.81%\n",
              "9   South Dakota   697500    81.93%"
            ]
          },
          "metadata": {},
          "execution_count": 25
        }
      ]
    },
    {
      "cell_type": "markdown",
      "metadata": {
        "id": "E994l2SpaLg3"
      },
      "source": [
        "10 Locations with the lowest percentage of White population in 2019\n"
      ]
    },
    {
      "cell_type": "code",
      "metadata": {
        "colab": {
          "base_uri": "https://localhost:8080/",
          "height": 363
        },
        "id": "P1MMryKGaTSJ",
        "outputId": "ed42ca4b-e8a0-4e52-89cf-31856ed6f471"
      },
      "source": [
        "# Reversed the order to show the lowest first\n",
        "white_percentage_lowest = white_percentage.sort_values(by='WhitePct', ascending=True)\n",
        "\n",
        "#  printed the top of the reversed order dataframe\n",
        "white_percentage_lowest.head(10)"
      ],
      "execution_count": null,
      "outputs": [
        {
          "output_type": "execute_result",
          "data": {
            "text/html": [
              "<div>\n",
              "<style scoped>\n",
              "    .dataframe tbody tr th:only-of-type {\n",
              "        vertical-align: middle;\n",
              "    }\n",
              "\n",
              "    .dataframe tbody tr th {\n",
              "        vertical-align: top;\n",
              "    }\n",
              "\n",
              "    .dataframe thead th {\n",
              "        text-align: right;\n",
              "    }\n",
              "</style>\n",
              "<table border=\"1\" class=\"dataframe\">\n",
              "  <thead>\n",
              "    <tr style=\"text-align: right;\">\n",
              "      <th></th>\n",
              "      <th>Location</th>\n",
              "      <th>White</th>\n",
              "      <th>WhitePct</th>\n",
              "    </tr>\n",
              "  </thead>\n",
              "  <tbody>\n",
              "    <tr>\n",
              "      <th>51</th>\n",
              "      <td>Puerto Rico</td>\n",
              "      <td>42600</td>\n",
              "      <td>1.35%</td>\n",
              "    </tr>\n",
              "    <tr>\n",
              "      <th>50</th>\n",
              "      <td>Hawaii</td>\n",
              "      <td>274400</td>\n",
              "      <td>20.43%</td>\n",
              "    </tr>\n",
              "    <tr>\n",
              "      <th>49</th>\n",
              "      <td>California</td>\n",
              "      <td>14047400</td>\n",
              "      <td>36.35%</td>\n",
              "    </tr>\n",
              "    <tr>\n",
              "      <th>48</th>\n",
              "      <td>District of Columbia</td>\n",
              "      <td>246100</td>\n",
              "      <td>36.66%</td>\n",
              "    </tr>\n",
              "    <tr>\n",
              "      <th>47</th>\n",
              "      <td>New Mexico</td>\n",
              "      <td>750000</td>\n",
              "      <td>36.74%</td>\n",
              "    </tr>\n",
              "    <tr>\n",
              "      <th>46</th>\n",
              "      <td>Texas</td>\n",
              "      <td>11637100</td>\n",
              "      <td>41.14%</td>\n",
              "    </tr>\n",
              "    <tr>\n",
              "      <th>45</th>\n",
              "      <td>Nevada</td>\n",
              "      <td>1448800</td>\n",
              "      <td>47.82%</td>\n",
              "    </tr>\n",
              "    <tr>\n",
              "      <th>44</th>\n",
              "      <td>Maryland</td>\n",
              "      <td>2934100</td>\n",
              "      <td>49.94%</td>\n",
              "    </tr>\n",
              "    <tr>\n",
              "      <th>43</th>\n",
              "      <td>Georgia</td>\n",
              "      <td>5354500</td>\n",
              "      <td>52.02%</td>\n",
              "    </tr>\n",
              "    <tr>\n",
              "      <th>42</th>\n",
              "      <td>Florida</td>\n",
              "      <td>11119200</td>\n",
              "      <td>52.97%</td>\n",
              "    </tr>\n",
              "  </tbody>\n",
              "</table>\n",
              "</div>"
            ],
            "text/plain": [
              "                Location     White  WhitePct\n",
              "51           Puerto Rico     42600     1.35%\n",
              "50                Hawaii    274400    20.43%\n",
              "49            California  14047400    36.35%\n",
              "48  District of Columbia    246100    36.66%\n",
              "47            New Mexico    750000    36.74%\n",
              "46                 Texas  11637100    41.14%\n",
              "45                Nevada   1448800    47.82%\n",
              "44              Maryland   2934100    49.94%\n",
              "43               Georgia   5354500    52.02%\n",
              "42               Florida  11119200    52.97%"
            ]
          },
          "metadata": {},
          "execution_count": 26
        }
      ]
    },
    {
      "cell_type": "markdown",
      "metadata": {
        "id": "rapLc55GyjOr"
      },
      "source": [
        "## **Black Population by US Location, 2019**\n",
        "\n",
        "YOUR TURN - Use the examples above to create the same data frames for the remaining populations."
      ]
    },
    {
      "cell_type": "markdown",
      "metadata": {
        "id": "UVfx6LTYy4kC"
      },
      "source": [
        "## **Hispanic Population by US Location, 2019**\n",
        "\n",
        "YOUR TURN - Use the examples above to create the same data frames for the remaining populations."
      ]
    },
    {
      "cell_type": "markdown",
      "metadata": {
        "id": "mYkktScLzHDL"
      },
      "source": [
        "## **Asian Population by US Location, 2019**\n",
        "\n",
        "YOUR TURN - Use the examples above to create the same data frames for the remaining populations."
      ]
    },
    {
      "cell_type": "markdown",
      "metadata": {
        "id": "49Rh7psJzPth"
      },
      "source": [
        "## **American Indian/Alaska Native Population by US Location, 2019**\n",
        "\n",
        "YOUR TURN - Use the examples above to create the same data frames for the remaining populations."
      ]
    },
    {
      "cell_type": "markdown",
      "metadata": {
        "id": "zQn0i1YgzUwZ"
      },
      "source": [
        "## **Native Hawaiian/Other Pacific Islander Population by US Location, 2019**\n",
        "\n",
        "YOUR TURN - Use the examples above to create the same data frames for the remaining populations."
      ]
    },
    {
      "cell_type": "markdown",
      "metadata": {
        "id": "XlBn8At9zhyj"
      },
      "source": [
        "## **Mulitracial Population by US Location, 2019**\n",
        "\n",
        "YOUR TURN - Use the examples above to create the same data frames for the remaining populations."
      ]
    },
    {
      "cell_type": "markdown",
      "metadata": {
        "id": "ArkQAMIox2xE"
      },
      "source": [
        "## **Create Data Charts**\n",
        "\n",
        "YOUR TURN - Review the following two data charts and modify or create your own charts based on the data frames you have created for this activity. "
      ]
    },
    {
      "cell_type": "markdown",
      "metadata": {
        "id": "r6-knYhnxlR_"
      },
      "source": [
        "The code below generates a bar chart that shows every location and the percentage of the specified race (in this example White). \n",
        "\n",
        "Experiment with creating charts based on your data frames by modifying or replacing this chart. See https://pandas.pydata.org/docs/reference/api/pandas.DataFrame.plot.html for properties you can experiment with."
      ]
    },
    {
      "cell_type": "code",
      "metadata": {
        "colab": {
          "base_uri": "https://localhost:8080/",
          "height": 1000
        },
        "id": "IbbME4HDlCPO",
        "outputId": "d41dda72-1db2-4bea-f9f1-61fb4a28377d"
      },
      "source": [
        "white_graph = white_percentage_lowest[[\"Location\", \"WhitePct\"]]\n",
        "white_graph.plot(kind='barh', x='Location', y='WhitePct', figsize=(20,30), color=['#73AB84','#99D19C','#79C7C5', '#ADE1E5'], title='White Population per Location in 2019', xlabel='Percentage of Population')"
      ],
      "execution_count": null,
      "outputs": [
        {
          "output_type": "execute_result",
          "data": {
            "text/plain": [
              "<matplotlib.axes._subplots.AxesSubplot at 0x7f6c9f6e5510>"
            ]
          },
          "metadata": {},
          "execution_count": 27
        },
        {
          "output_type": "display_data",
          "data": {
            "image/png": "[encoded data removed]",
            "text/plain": [
              "<Figure size 1440x2160 with 1 Axes>"
            ]
          },
          "metadata": {
            "needs_background": "light"
          }
        }
      ]
    },
    {
      "cell_type": "markdown",
      "metadata": {
        "id": "u54MM2AkwqTQ"
      },
      "source": [
        "The code below generates a row of data for a randomly selected location after the total population column is removed. \n",
        "\n",
        "Experiment with creating charts based on your data frames by modifying or replacing this chart. See https://pandas.pydata.org/docs/reference/api/pandas.DataFrame.plot.html for properties you can experiment with."
      ]
    },
    {
      "cell_type": "code",
      "metadata": {
        "colab": {
          "base_uri": "https://localhost:8080/",
          "height": 978
        },
        "id": "fyeGKeXppZOw",
        "outputId": "db427faa-097d-4ba2-81ee-2d0274452b9f"
      },
      "source": [
        "# save data without total to a separate dataframe\n",
        "rand_state_data = state_data[[\"Location\", \"White\", \"Black\", \"Hispanic\", \"Asian\", \"American Indian/Alaska Native\", \"Native Hawaiian/Other Pacific Islander\", \"Multiple Races\"]]\n",
        "\n",
        "randState = rand_state_data.sample() # select a random row of data\n",
        "\n",
        "\n",
        "thisstate = randState.Location # save to a dataframe\n",
        "this_title = \"2019 Population by Race for \"\n",
        "state_name = this_title + thisstate\n",
        "print(state_name)\n",
        "print(\"\\n\")\n",
        "randState.plot(kind='bar', figsize=(15,15), color=['red','orange','yellow', 'green', 'blue', 'purple', 'pink'], ylabel =\"Population\", xlabel=\"Race\")\n",
        "                          "
      ],
      "execution_count": null,
      "outputs": [
        {
          "output_type": "stream",
          "name": "stdout",
          "text": [
            "44    2019 Population by Race for Utah\n",
            "Name: Location, dtype: object\n",
            "\n",
            "\n"
          ]
        },
        {
          "output_type": "execute_result",
          "data": {
            "text/plain": [
              "<matplotlib.axes._subplots.AxesSubplot at 0x7f6c96c94650>"
            ]
          },
          "metadata": {},
          "execution_count": 28
        },
        {
          "output_type": "display_data",
          "data": {
            "image/png": "[encoded data removed]",
            "text/plain": [
              "<Figure size 1080x1080 with 1 Axes>"
            ]
          },
          "metadata": {
            "needs_background": "light"
          }
        }
      ]
    }
  ]
}