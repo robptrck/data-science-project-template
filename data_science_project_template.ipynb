{
  "nbformat": 4,
  "nbformat_minor": 0,
  "metadata": {
    "colab": {
      "name": "data-science-project-template.ipynb",
      "provenance": [],
      "collapsed_sections": [],
      "authorship_tag": "ABX9TyOz+vgKfufAGGsWzqDlZ6L4",
      "include_colab_link": true
    },
    "kernelspec": {
      "name": "python3",
      "display_name": "Python 3"
    },
    "language_info": {
      "name": "python"
    }
  },
  "cells": [
    {
      "cell_type": "markdown",
      "metadata": {
        "id": "view-in-github",
        "colab_type": "text"
      },
      "source": [
        "<a href=\"https://colab.research.google.com/github/robptrck/data-science-project-template/blob/main/data_science_project_template.ipynb\" target=\"_parent\"><img src=\"https://colab.research.google.com/assets/colab-badge.svg\" alt=\"Open In Colab\"/></a>"
      ]
    },
    {
      "cell_type": "markdown",
      "source": [
        "# Data Science Project Template"
      ],
      "metadata": {
        "id": "pPOnptUnr-10"
      }
    },
    {
      "cell_type": "markdown",
      "source": [
        "# INGESTION AND EDA"
      ],
      "metadata": {
        "id": "Aee1_V64rJjH"
      }
    },
    {
      "cell_type": "code",
      "execution_count": 17,
      "metadata": {
        "id": "05c2kF92rIdT"
      },
      "outputs": [],
      "source": [
        "import numpy as np\n",
        "import pandas as pd\n",
        "import matplotlib.pyplot as plt\n",
        "%matplotlib inline\n",
        "import seaborn as sns\n",
        "sns.set(context=\"notebook\", style=\"whitegrid\", font_scale=1.25, rc={\"lines.linewidth\": 1.5})"
      ]
    },
    {
      "cell_type": "code",
      "source": [
        "# INGESTION\n",
        "\n",
        "df = pd.read_csv(\"https://raw.githubusercontent.com/noahgift/socialpowernba/master/data/County_MedianListingPrice_AllHomes.csv\")\n",
        "df.head()"
      ],
      "metadata": {
        "colab": {
          "base_uri": "https://localhost:8080/",
          "height": 311
        },
        "id": "cm0qSN_udUAw",
        "outputId": "f4bae1a5-a464-4f7e-a341-fa4c3b9c5680"
      },
      "execution_count": 8,
      "outputs": [
        {
          "output_type": "execute_result",
          "data": {
            "text/plain": [
              "    RegionName State                           Metro  StateCodeFIPS  \\\n",
              "0  Los Angeles    CA  Los Angeles-Long Beach-Anaheim              6   \n",
              "1         Cook    IL                         Chicago             17   \n",
              "2       Harris    TX                         Houston             48   \n",
              "3     Maricopa    AZ                         Phoenix              4   \n",
              "4    San Diego    CA                       San Diego              6   \n",
              "\n",
              "   MunicipalCodeFIPS  SizeRank   2010-01   2010-02   2010-03   2010-04  ...  \\\n",
              "0                 37         1       NaN       NaN       NaN       NaN  ...   \n",
              "1                 31         2       NaN       NaN       NaN       NaN  ...   \n",
              "2                201         3  136900.0  140000.0  144778.5  145000.0  ...   \n",
              "3                 13         4       NaN       NaN       NaN       NaN  ...   \n",
              "4                 73         5       NaN       NaN       NaN       NaN  ...   \n",
              "\n",
              "    2016-09   2016-10   2016-11   2016-12   2017-01   2017-02   2017-03  \\\n",
              "0  595000.0  599000.0  599000.0  595000.0  595000.0  598000.0  599999.0   \n",
              "1  244900.0  239900.0  235000.0  229000.0  229900.0  247000.0  259000.0   \n",
              "2  269000.0  265000.0  263990.0  259990.0  259900.0  264900.0  269900.0   \n",
              "3  284000.0  282499.0  282000.0  284900.0  284900.0  289500.0  290000.0   \n",
              "4  577500.0  575000.0  570000.0  574993.5  579000.0  589000.0  595000.0   \n",
              "\n",
              "    2017-04   2017-05   2017-06  \n",
              "0  619900.0  629500.0  625000.0  \n",
              "1  265000.0  269000.0  269900.0  \n",
              "2  274180.0  274990.0  274455.0  \n",
              "3  296500.0  299000.0  295000.0  \n",
              "4  615000.0  625000.0  624900.0  \n",
              "\n",
              "[5 rows x 96 columns]"
            ],
            "text/html": [
              "\n",
              "  <div id=\"df-b1390904-7335-4ad8-a29d-283f91cabc1c\">\n",
              "    <div class=\"colab-df-container\">\n",
              "      <div>\n",
              "<style scoped>\n",
              "    .dataframe tbody tr th:only-of-type {\n",
              "        vertical-align: middle;\n",
              "    }\n",
              "\n",
              "    .dataframe tbody tr th {\n",
              "        vertical-align: top;\n",
              "    }\n",
              "\n",
              "    .dataframe thead th {\n",
              "        text-align: right;\n",
              "    }\n",
              "</style>\n",
              "<table border=\"1\" class=\"dataframe\">\n",
              "  <thead>\n",
              "    <tr style=\"text-align: right;\">\n",
              "      <th></th>\n",
              "      <th>RegionName</th>\n",
              "      <th>State</th>\n",
              "      <th>Metro</th>\n",
              "      <th>StateCodeFIPS</th>\n",
              "      <th>MunicipalCodeFIPS</th>\n",
              "      <th>SizeRank</th>\n",
              "      <th>2010-01</th>\n",
              "      <th>2010-02</th>\n",
              "      <th>2010-03</th>\n",
              "      <th>2010-04</th>\n",
              "      <th>...</th>\n",
              "      <th>2016-09</th>\n",
              "      <th>2016-10</th>\n",
              "      <th>2016-11</th>\n",
              "      <th>2016-12</th>\n",
              "      <th>2017-01</th>\n",
              "      <th>2017-02</th>\n",
              "      <th>2017-03</th>\n",
              "      <th>2017-04</th>\n",
              "      <th>2017-05</th>\n",
              "      <th>2017-06</th>\n",
              "    </tr>\n",
              "  </thead>\n",
              "  <tbody>\n",
              "    <tr>\n",
              "      <th>0</th>\n",
              "      <td>Los Angeles</td>\n",
              "      <td>CA</td>\n",
              "      <td>Los Angeles-Long Beach-Anaheim</td>\n",
              "      <td>6</td>\n",
              "      <td>37</td>\n",
              "      <td>1</td>\n",
              "      <td>NaN</td>\n",
              "      <td>NaN</td>\n",
              "      <td>NaN</td>\n",
              "      <td>NaN</td>\n",
              "      <td>...</td>\n",
              "      <td>595000.0</td>\n",
              "      <td>599000.0</td>\n",
              "      <td>599000.0</td>\n",
              "      <td>595000.0</td>\n",
              "      <td>595000.0</td>\n",
              "      <td>598000.0</td>\n",
              "      <td>599999.0</td>\n",
              "      <td>619900.0</td>\n",
              "      <td>629500.0</td>\n",
              "      <td>625000.0</td>\n",
              "    </tr>\n",
              "    <tr>\n",
              "      <th>1</th>\n",
              "      <td>Cook</td>\n",
              "      <td>IL</td>\n",
              "      <td>Chicago</td>\n",
              "      <td>17</td>\n",
              "      <td>31</td>\n",
              "      <td>2</td>\n",
              "      <td>NaN</td>\n",
              "      <td>NaN</td>\n",
              "      <td>NaN</td>\n",
              "      <td>NaN</td>\n",
              "      <td>...</td>\n",
              "      <td>244900.0</td>\n",
              "      <td>239900.0</td>\n",
              "      <td>235000.0</td>\n",
              "      <td>229000.0</td>\n",
              "      <td>229900.0</td>\n",
              "      <td>247000.0</td>\n",
              "      <td>259000.0</td>\n",
              "      <td>265000.0</td>\n",
              "      <td>269000.0</td>\n",
              "      <td>269900.0</td>\n",
              "    </tr>\n",
              "    <tr>\n",
              "      <th>2</th>\n",
              "      <td>Harris</td>\n",
              "      <td>TX</td>\n",
              "      <td>Houston</td>\n",
              "      <td>48</td>\n",
              "      <td>201</td>\n",
              "      <td>3</td>\n",
              "      <td>136900.0</td>\n",
              "      <td>140000.0</td>\n",
              "      <td>144778.5</td>\n",
              "      <td>145000.0</td>\n",
              "      <td>...</td>\n",
              "      <td>269000.0</td>\n",
              "      <td>265000.0</td>\n",
              "      <td>263990.0</td>\n",
              "      <td>259990.0</td>\n",
              "      <td>259900.0</td>\n",
              "      <td>264900.0</td>\n",
              "      <td>269900.0</td>\n",
              "      <td>274180.0</td>\n",
              "      <td>274990.0</td>\n",
              "      <td>274455.0</td>\n",
              "    </tr>\n",
              "    <tr>\n",
              "      <th>3</th>\n",
              "      <td>Maricopa</td>\n",
              "      <td>AZ</td>\n",
              "      <td>Phoenix</td>\n",
              "      <td>4</td>\n",
              "      <td>13</td>\n",
              "      <td>4</td>\n",
              "      <td>NaN</td>\n",
              "      <td>NaN</td>\n",
              "      <td>NaN</td>\n",
              "      <td>NaN</td>\n",
              "      <td>...</td>\n",
              "      <td>284000.0</td>\n",
              "      <td>282499.0</td>\n",
              "      <td>282000.0</td>\n",
              "      <td>284900.0</td>\n",
              "      <td>284900.0</td>\n",
              "      <td>289500.0</td>\n",
              "      <td>290000.0</td>\n",
              "      <td>296500.0</td>\n",
              "      <td>299000.0</td>\n",
              "      <td>295000.0</td>\n",
              "    </tr>\n",
              "    <tr>\n",
              "      <th>4</th>\n",
              "      <td>San Diego</td>\n",
              "      <td>CA</td>\n",
              "      <td>San Diego</td>\n",
              "      <td>6</td>\n",
              "      <td>73</td>\n",
              "      <td>5</td>\n",
              "      <td>NaN</td>\n",
              "      <td>NaN</td>\n",
              "      <td>NaN</td>\n",
              "      <td>NaN</td>\n",
              "      <td>...</td>\n",
              "      <td>577500.0</td>\n",
              "      <td>575000.0</td>\n",
              "      <td>570000.0</td>\n",
              "      <td>574993.5</td>\n",
              "      <td>579000.0</td>\n",
              "      <td>589000.0</td>\n",
              "      <td>595000.0</td>\n",
              "      <td>615000.0</td>\n",
              "      <td>625000.0</td>\n",
              "      <td>624900.0</td>\n",
              "    </tr>\n",
              "  </tbody>\n",
              "</table>\n",
              "<p>5 rows × 96 columns</p>\n",
              "</div>\n",
              "      <button class=\"colab-df-convert\" onclick=\"convertToInteractive('df-b1390904-7335-4ad8-a29d-283f91cabc1c')\"\n",
              "              title=\"Convert this dataframe to an interactive table.\"\n",
              "              style=\"display:none;\">\n",
              "        \n",
              "  <svg xmlns=\"http://www.w3.org/2000/svg\" height=\"24px\"viewBox=\"0 0 24 24\"\n",
              "       width=\"24px\">\n",
              "    <path d=\"M0 0h24v24H0V0z\" fill=\"none\"/>\n",
              "    <path d=\"M18.56 5.44l.94 2.06.94-2.06 2.06-.94-2.06-.94-.94-2.06-.94 2.06-2.06.94zm-11 1L8.5 8.5l.94-2.06 2.06-.94-2.06-.94L8.5 2.5l-.94 2.06-2.06.94zm10 10l.94 2.06.94-2.06 2.06-.94-2.06-.94-.94-2.06-.94 2.06-2.06.94z\"/><path d=\"M17.41 7.96l-1.37-1.37c-.4-.4-.92-.59-1.43-.59-.52 0-1.04.2-1.43.59L10.3 9.45l-7.72 7.72c-.78.78-.78 2.05 0 2.83L4 21.41c.39.39.9.59 1.41.59.51 0 1.02-.2 1.41-.59l7.78-7.78 2.81-2.81c.8-.78.8-2.07 0-2.86zM5.41 20L4 18.59l7.72-7.72 1.47 1.35L5.41 20z\"/>\n",
              "  </svg>\n",
              "      </button>\n",
              "      \n",
              "  <style>\n",
              "    .colab-df-container {\n",
              "      display:flex;\n",
              "      flex-wrap:wrap;\n",
              "      gap: 12px;\n",
              "    }\n",
              "\n",
              "    .colab-df-convert {\n",
              "      background-color: #E8F0FE;\n",
              "      border: none;\n",
              "      border-radius: 50%;\n",
              "      cursor: pointer;\n",
              "      display: none;\n",
              "      fill: #1967D2;\n",
              "      height: 32px;\n",
              "      padding: 0 0 0 0;\n",
              "      width: 32px;\n",
              "    }\n",
              "\n",
              "    .colab-df-convert:hover {\n",
              "      background-color: #E2EBFA;\n",
              "      box-shadow: 0px 1px 2px rgba(60, 64, 67, 0.3), 0px 1px 3px 1px rgba(60, 64, 67, 0.15);\n",
              "      fill: #174EA6;\n",
              "    }\n",
              "\n",
              "    [theme=dark] .colab-df-convert {\n",
              "      background-color: #3B4455;\n",
              "      fill: #D2E3FC;\n",
              "    }\n",
              "\n",
              "    [theme=dark] .colab-df-convert:hover {\n",
              "      background-color: #434B5C;\n",
              "      box-shadow: 0px 1px 3px 1px rgba(0, 0, 0, 0.15);\n",
              "      filter: drop-shadow(0px 1px 2px rgba(0, 0, 0, 0.3));\n",
              "      fill: #FFFFFF;\n",
              "    }\n",
              "  </style>\n",
              "\n",
              "      <script>\n",
              "        const buttonEl =\n",
              "          document.querySelector('#df-b1390904-7335-4ad8-a29d-283f91cabc1c button.colab-df-convert');\n",
              "        buttonEl.style.display =\n",
              "          google.colab.kernel.accessAllowed ? 'block' : 'none';\n",
              "\n",
              "        async function convertToInteractive(key) {\n",
              "          const element = document.querySelector('#df-b1390904-7335-4ad8-a29d-283f91cabc1c');\n",
              "          const dataTable =\n",
              "            await google.colab.kernel.invokeFunction('convertToInteractive',\n",
              "                                                     [key], {});\n",
              "          if (!dataTable) return;\n",
              "\n",
              "          const docLinkHtml = 'Like what you see? Visit the ' +\n",
              "            '<a target=\"_blank\" href=https://colab.research.google.com/notebooks/data_table.ipynb>data table notebook</a>'\n",
              "            + ' to learn more about interactive tables.';\n",
              "          element.innerHTML = '';\n",
              "          dataTable['output_type'] = 'display_data';\n",
              "          await google.colab.output.renderOutput(dataTable, element);\n",
              "          const docLink = document.createElement('div');\n",
              "          docLink.innerHTML = docLinkHtml;\n",
              "          element.appendChild(docLink);\n",
              "        }\n",
              "      </script>\n",
              "    </div>\n",
              "  </div>\n",
              "  "
            ]
          },
          "metadata": {},
          "execution_count": 8
        }
      ]
    },
    {
      "cell_type": "code",
      "source": [
        "# QUICK REFERENCE: COLUMN NAMES ASCENDING\n",
        "\n",
        "column_names = df.columns\n",
        "column_names = pd.Series(column_names)\n",
        "column_names = column_names.sort_values()\n",
        "column_names"
      ],
      "metadata": {
        "colab": {
          "base_uri": "https://localhost:8080/"
        },
        "id": "zba4EOwr7XW8",
        "outputId": "589da4cd-efc6-43cc-b77d-4e26399f7ecc"
      },
      "execution_count": 10,
      "outputs": [
        {
          "output_type": "execute_result",
          "data": {
            "text/plain": [
              "6               2010-01\n",
              "7               2010-02\n",
              "8               2010-03\n",
              "9               2010-04\n",
              "10              2010-05\n",
              "            ...        \n",
              "4     MunicipalCodeFIPS\n",
              "0            RegionName\n",
              "5              SizeRank\n",
              "1                 State\n",
              "3         StateCodeFIPS\n",
              "Length: 96, dtype: object"
            ]
          },
          "metadata": {},
          "execution_count": 10
        }
      ]
    },
    {
      "cell_type": "code",
      "source": [
        "# QUICK REFERENCE: DATA TYPES\n",
        "\n",
        "dtypes = df.dtypes\n",
        "dtypes"
      ],
      "metadata": {
        "colab": {
          "base_uri": "https://localhost:8080/"
        },
        "id": "DNioeplQAkTo",
        "outputId": "37458eb5-0717-48ee-a72e-ebc50c383be9"
      },
      "execution_count": null,
      "outputs": [
        {
          "output_type": "execute_result",
          "data": {
            "text/plain": [
              "RegionName            object\n",
              "State                 object\n",
              "Metro                 object\n",
              "StateCodeFIPS          int64\n",
              "MunicipalCodeFIPS      int64\n",
              "                      ...   \n",
              "2017-02              float64\n",
              "2017-03              float64\n",
              "2017-04              float64\n",
              "2017-05              float64\n",
              "2017-06              float64\n",
              "Length: 96, dtype: object"
            ]
          },
          "metadata": {},
          "execution_count": 253
        }
      ]
    },
    {
      "cell_type": "code",
      "source": [
        "# ROWS, COLUMNS\n",
        "\n",
        "df.shape"
      ],
      "metadata": {
        "colab": {
          "base_uri": "https://localhost:8080/"
        },
        "id": "7zHnTXi99-uw",
        "outputId": "2105f2ca-732a-4c33-bf59-81b1495cb833"
      },
      "execution_count": null,
      "outputs": [
        {
          "output_type": "execute_result",
          "data": {
            "text/plain": [
              "(2292, 96)"
            ]
          },
          "metadata": {},
          "execution_count": 251
        }
      ]
    },
    {
      "cell_type": "code",
      "source": [
        "# NULL VALUES DESCENDING\n",
        "\n",
        "df.isnull().sum().sort_values(ascending=False)"
      ],
      "metadata": {
        "colab": {
          "base_uri": "https://localhost:8080/"
        },
        "id": "A2-yriSYUddM",
        "outputId": "f5986563-ec77-4517-c401-cd42d4eabb21"
      },
      "execution_count": 15,
      "outputs": [
        {
          "output_type": "execute_result",
          "data": {
            "text/plain": [
              "2010-01              1187\n",
              "2010-02              1186\n",
              "2010-03              1178\n",
              "2010-04              1172\n",
              "2010-05              1169\n",
              "                     ... \n",
              "State                   0\n",
              "SizeRank                0\n",
              "MunicipalCodeFIPS       0\n",
              "StateCodeFIPS           0\n",
              "2017-06                 0\n",
              "Length: 96, dtype: int64"
            ]
          },
          "metadata": {},
          "execution_count": 15
        }
      ]
    },
    {
      "cell_type": "code",
      "source": [
        "# VISUALIZE NULLS\n",
        "\n",
        "plt.figure(figsize=(90,90))\n",
        "sns.displot(\n",
        "    data=df.isna().melt(value_name=\"missing\"),\n",
        "    y=\"variable\",\n",
        "    hue=\"missing\",\n",
        "    multiple=\"fill\",\n",
        "    aspect=1.25)"
      ],
      "metadata": {
        "colab": {
          "base_uri": "https://localhost:8080/",
          "height": 393
        },
        "id": "O7KCmBtCVB7i",
        "outputId": "7aca57a5-642b-4e80-81a9-fd166dee5006"
      },
      "execution_count": 21,
      "outputs": [
        {
          "output_type": "execute_result",
          "data": {
            "text/plain": [
              "<seaborn.axisgrid.FacetGrid at 0x7fe21a3642d0>"
            ]
          },
          "metadata": {},
          "execution_count": 21
        },
        {
          "output_type": "display_data",
          "data": {
            "text/plain": [
              "<Figure size 6480x6480 with 0 Axes>"
            ]
          },
          "metadata": {}
        },
        {
          "output_type": "display_data",
          "data": {
            "text/plain": [
              "<Figure size 534.125x360 with 1 Axes>"
            ],
            "image/png": "[encoded data removed]"
          },
          "metadata": {}
        }
      ]
    },
    {
      "cell_type": "code",
      "source": [
        "column_names"
      ],
      "metadata": {
        "id": "EwKmkYHaVCUA",
        "colab": {
          "base_uri": "https://localhost:8080/"
        },
        "outputId": "b88982a9-254a-4abe-cf46-f1a5a8927abd"
      },
      "execution_count": 23,
      "outputs": [
        {
          "output_type": "execute_result",
          "data": {
            "text/plain": [
              "6               2010-01\n",
              "7               2010-02\n",
              "8               2010-03\n",
              "9               2010-04\n",
              "10              2010-05\n",
              "            ...        \n",
              "4     MunicipalCodeFIPS\n",
              "0            RegionName\n",
              "5              SizeRank\n",
              "1                 State\n",
              "3         StateCodeFIPS\n",
              "Length: 96, dtype: object"
            ]
          },
          "metadata": {},
          "execution_count": 23
        }
      ]
    },
    {
      "cell_type": "code",
      "source": [
        "\n",
        "2\n",
        "3\n",
        "4\n",
        "5\n",
        "6\n",
        "plt.figure(figsize=(8, 6))\n",
        "splot=sns.barplot(x=\"State\",y=\"SizeRank\",data=df)\n",
        "plt.xlabel(\"x\", size=16)\n",
        "plt.ylabel(\"y\", size=16)\n",
        "plt.bar_label(plt.containers[0])"
      ],
      "metadata": {
        "id": "-M2zZNsAVCWl",
        "colab": {
          "base_uri": "https://localhost:8080/",
          "height": 581
        },
        "outputId": "545fc326-fb47-4bf5-91af-6de041c16cd1"
      },
      "execution_count": 27,
      "outputs": [
        {
          "output_type": "error",
          "ename": "AttributeError",
          "evalue": "ignored",
          "traceback": [
            "\u001b[0;31m---------------------------------------------------------------------------\u001b[0m",
            "\u001b[0;31mAttributeError\u001b[0m                            Traceback (most recent call last)",
            "\u001b[0;32m<ipython-input-27-c6020039cae7>\u001b[0m in \u001b[0;36m<module>\u001b[0;34m()\u001b[0m\n\u001b[1;32m      9\u001b[0m \u001b[0mplt\u001b[0m\u001b[0;34m.\u001b[0m\u001b[0mxlabel\u001b[0m\u001b[0;34m(\u001b[0m\u001b[0;34m\"x\"\u001b[0m\u001b[0;34m,\u001b[0m \u001b[0msize\u001b[0m\u001b[0;34m=\u001b[0m\u001b[0;36m16\u001b[0m\u001b[0;34m)\u001b[0m\u001b[0;34m\u001b[0m\u001b[0;34m\u001b[0m\u001b[0m\n\u001b[1;32m     10\u001b[0m \u001b[0mplt\u001b[0m\u001b[0;34m.\u001b[0m\u001b[0mylabel\u001b[0m\u001b[0;34m(\u001b[0m\u001b[0;34m\"y\"\u001b[0m\u001b[0;34m,\u001b[0m \u001b[0msize\u001b[0m\u001b[0;34m=\u001b[0m\u001b[0;36m16\u001b[0m\u001b[0;34m)\u001b[0m\u001b[0;34m\u001b[0m\u001b[0;34m\u001b[0m\u001b[0m\n\u001b[0;32m---> 11\u001b[0;31m \u001b[0mplt\u001b[0m\u001b[0;34m.\u001b[0m\u001b[0mbar_label\u001b[0m\u001b[0;34m(\u001b[0m\u001b[0mplt\u001b[0m\u001b[0;34m.\u001b[0m\u001b[0mcontainers\u001b[0m\u001b[0;34m[\u001b[0m\u001b[0;36m0\u001b[0m\u001b[0;34m]\u001b[0m\u001b[0;34m)\u001b[0m\u001b[0;34m\u001b[0m\u001b[0;34m\u001b[0m\u001b[0m\n\u001b[0m",
            "\u001b[0;31mAttributeError\u001b[0m: module 'matplotlib.pyplot' has no attribute 'bar_label'"
          ]
        },
        {
          "output_type": "display_data",
          "data": {
            "text/plain": [
              "<Figure size 576x432 with 1 Axes>"
            ],
            "image/png": "[encoded data removed]"
          },
          "metadata": {}
        }
      ]
    },
    {
      "cell_type": "code",
      "source": [
        "p1 = df.plot(kind='bar', figsize=(20, 8), rot=0, ylabel='ylabel', title=\"title\")\n",
        "\n",
        "for p in p1.containers:\n",
        "    p1.bar_label(p, fmt='%.2f', label_type='edge')"
      ],
      "metadata": {
        "id": "lDPgDEX-VCaz",
        "colab": {
          "base_uri": "https://localhost:8080/",
          "height": 198
        },
        "outputId": "322ddb30-8a3d-461e-d14e-1da12102fae4"
      },
      "execution_count": null,
      "outputs": [
        {
          "output_type": "error",
          "ename": "AttributeError",
          "evalue": "ignored",
          "traceback": [
            "\u001b[0;31m---------------------------------------------------------------------------\u001b[0m",
            "\u001b[0;31mAttributeError\u001b[0m                            Traceback (most recent call last)",
            "\u001b[0;32m<ipython-input-29-89a69639089f>\u001b[0m in \u001b[0;36m<module>\u001b[0;34m()\u001b[0m\n\u001b[1;32m      2\u001b[0m \u001b[0;34m\u001b[0m\u001b[0m\n\u001b[1;32m      3\u001b[0m \u001b[0;32mfor\u001b[0m \u001b[0mp\u001b[0m \u001b[0;32min\u001b[0m \u001b[0mp1\u001b[0m\u001b[0;34m.\u001b[0m\u001b[0mcontainers\u001b[0m\u001b[0;34m:\u001b[0m\u001b[0;34m\u001b[0m\u001b[0;34m\u001b[0m\u001b[0m\n\u001b[0;32m----> 4\u001b[0;31m     \u001b[0mp1\u001b[0m\u001b[0;34m.\u001b[0m\u001b[0mbar_label\u001b[0m\u001b[0;34m(\u001b[0m\u001b[0mp\u001b[0m\u001b[0;34m,\u001b[0m \u001b[0mfmt\u001b[0m\u001b[0;34m=\u001b[0m\u001b[0;34m'%.2f'\u001b[0m\u001b[0;34m,\u001b[0m \u001b[0mlabel_type\u001b[0m\u001b[0;34m=\u001b[0m\u001b[0;34m'edge'\u001b[0m\u001b[0;34m)\u001b[0m\u001b[0;34m\u001b[0m\u001b[0;34m\u001b[0m\u001b[0m\n\u001b[0m",
            "\u001b[0;31mAttributeError\u001b[0m: 'AxesSubplot' object has no attribute 'bar_label'"
          ]
        }
      ]
    },
    {
      "cell_type": "code",
      "source": [
        "import plotly.io as pio\n",
        "pio.renderers.default = 'colab'\n",
        "import plotly.express as px\n",
        "fig = px.scatter(df, x='State'.index, y=\"Size Rank\", size=\"State\", color=\"State\", facet_col=\"State\")\n",
        "fig.show()"
      ],
      "metadata": {
        "id": "nAofYcpZek-V"
      },
      "execution_count": null,
      "outputs": []
    }
  ]
}