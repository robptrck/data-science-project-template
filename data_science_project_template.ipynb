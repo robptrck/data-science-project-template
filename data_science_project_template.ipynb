{
  "nbformat": 4,
  "nbformat_minor": 0,
  "metadata": {
    "colab": {
      "name": "data-science-project-template.ipynb",
      "provenance": [],
      "collapsed_sections": [],
      "authorship_tag": "ABX9TyM0L3zuLQQ4JZo4WbOu/6PR",
      "include_colab_link": true
    },
    "kernelspec": {
      "name": "python3",
      "display_name": "Python 3"
    },
    "language_info": {
      "name": "python"
    }
  },
  "cells": [
    {
      "cell_type": "markdown",
      "metadata": {
        "id": "view-in-github",
        "colab_type": "text"
      },
      "source": [
        "<a href=\"https://colab.research.google.com/github/robptrck/data-science-project-template/blob/main/data_science_project_template.ipynb\" target=\"_parent\"><img src=\"https://colab.research.google.com/assets/colab-badge.svg\" alt=\"Open In Colab\"/></a>"
      ]
    },
    {
      "cell_type": "markdown",
      "source": [
        "# Data Science Project Template"
      ],
      "metadata": {
        "id": "pPOnptUnr-10"
      }
    },
    {
      "cell_type": "markdown",
      "source": [
        "# Start Here"
      ],
      "metadata": {
        "id": "Aee1_V64rJjH"
      }
    },
    {
      "cell_type": "code",
      "execution_count": 3,
      "metadata": {
        "id": "05c2kF92rIdT"
      },
      "outputs": [],
      "source": [
        "# IMPORT\n",
        "\n",
        "import numpy as np\n",
        "import pandas as pd\n",
        "import seaborn as sns\n",
        "import matplotlib.pyplot as plt\n",
        "%matplotlib inline"
      ]
    },
    {
      "cell_type": "code",
      "source": [
        "# SEABORN SETUP\n",
        "\n",
        "sns.set()\n",
        "sns.set_context(\"notebook\", rc={\"lines.linewidth\": 1.5})\n",
        "sns.set_style(\"whitegrid\")\n",
        "plt.xlabel(\"X LABEL\", fontsize=16)\n",
        "plt.ylabel(\"Y LABEL\", fontsize=16)\n",
        "plt.title(\"MY TITLE\", fontsize=16)"
      ],
      "metadata": {
        "colab": {
          "base_uri": "https://localhost:8080/",
          "height": 322
        },
        "id": "cfN75Y5RrQWD",
        "outputId": "2ea3ac33-2b93-49fb-c67a-37d91c483c57"
      },
      "execution_count": 7,
      "outputs": [
        {
          "output_type": "execute_result",
          "data": {
            "text/plain": [
              "Text(0.5, 1.0, 'MY TITLE')"
            ]
          },
          "metadata": {},
          "execution_count": 7
        },
        {
          "output_type": "display_data",
          "data": {
            "text/plain": [
              "<Figure size 432x288 with 1 Axes>"
            ],
            "image/png": "[encoded data removed]"
          },
          "metadata": {}
        }
      ]
    },
    {
      "cell_type": "code",
      "source": [
        ""
      ],
      "metadata": {
        "id": "RTdharRarQYE"
      },
      "execution_count": null,
      "outputs": []
    },
    {
      "cell_type": "code",
      "source": [
        ""
      ],
      "metadata": {
        "id": "U1HQKBaTrQaH"
      },
      "execution_count": null,
      "outputs": []
    },
    {
      "cell_type": "code",
      "source": [
        ""
      ],
      "metadata": {
        "id": "_0Ygub6VsCGG"
      },
      "execution_count": null,
      "outputs": []
    }
  ]
}